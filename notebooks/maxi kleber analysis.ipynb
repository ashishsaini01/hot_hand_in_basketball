{
 "cells": [
  {
   "cell_type": "code",
   "execution_count": 2,
   "id": "1fbf4891",
   "metadata": {},
   "outputs": [],
   "source": [
    "import pandas as pd\n",
    "import numpy as np\n",
    "import matplotlib.pyplot as plt\n",
    "import seaborn as sns"
   ]
  },
  {
   "cell_type": "code",
   "execution_count": 3,
   "id": "b6907e46",
   "metadata": {},
   "outputs": [],
   "source": [
    "df_1 = pd.read_csv('m_kleber_all_games_data.csv')\n",
    "df_2 = pd.read_csv('maxi_kleber_series_games(jazz_gsw)_data.csv')"
   ]
  },
  {
   "cell_type": "code",
   "execution_count": 4,
   "id": "f1bc6f53",
   "metadata": {},
   "outputs": [],
   "source": [
    "df_1['misses/count_binary'] = np.where(df_1['misses/count'] == 'makes', 1, 0)\n",
    "df_2['misses/count_binary'] = np.where(df_2['misses/count'] == 'makes', 1, 0)"
   ]
  },
  {
   "cell_type": "code",
   "execution_count": 5,
   "id": "9528c06d",
   "metadata": {},
   "outputs": [],
   "source": [
    "# df.shape\n",
    "df_to_use_1 = df_1[df_1['basket_type'] != 'free']\n",
    "df_to_use_2 = df_2[df_2['basket_type'] != 'free']"
   ]
  },
  {
   "cell_type": "code",
   "execution_count": 6,
   "id": "92a015d3",
   "metadata": {},
   "outputs": [
    {
     "data": {
      "text/plain": [
       "3-pt    28\n",
       "2-pt    15\n",
       "Name: basket_type, dtype: int64"
      ]
     },
     "execution_count": 6,
     "metadata": {},
     "output_type": "execute_result"
    }
   ],
   "source": [
    "df_to_use_1['basket_type'].value_counts()"
   ]
  },
  {
   "cell_type": "code",
   "execution_count": 7,
   "id": "e9067b4c",
   "metadata": {},
   "outputs": [],
   "source": [
    "# df_2['basket_type'].value_counts()"
   ]
  },
  {
   "cell_type": "code",
   "execution_count": 8,
   "id": "d64aa0e3",
   "metadata": {},
   "outputs": [],
   "source": [
    "combine_df = pd.concat([df_to_use_1, df_to_use_2])\n",
    "combine_df['oponent_team'].fillna('suns', inplace=True)"
   ]
  },
  {
   "cell_type": "code",
   "execution_count": 9,
   "id": "97dbb162",
   "metadata": {},
   "outputs": [],
   "source": [
    "# dummy_streak_df = pd.crosstab(dummy['seq'], dummy['streak'])\n",
    "# dummy_streak_df = dummy_streak_df.reset_index()\n",
    "# dummy_streak_df['Total'] = dummy_streak_df.sum(axis = 1)\n",
    "# dummy_streak_df"
   ]
  },
  {
   "cell_type": "code",
   "execution_count": 10,
   "id": "6d711bfb",
   "metadata": {},
   "outputs": [],
   "source": [
    "combine_df['streak'] = combine_df['misses/count_binary'].groupby((combine_df['misses/count_binary'] != combine_df.groupby(['Series Game', 'oponent_team'])['misses/count_binary'].shift()).cumsum()).cumcount() + 1"
   ]
  },
  {
   "cell_type": "code",
   "execution_count": 11,
   "id": "413ccbcc",
   "metadata": {},
   "outputs": [],
   "source": [
    "# combine_df[['Series Game', 'quarter', 'misses/count', 'streak']]"
   ]
  },
  {
   "cell_type": "code",
   "execution_count": 12,
   "id": "bd5e0ca4",
   "metadata": {},
   "outputs": [
    {
     "data": {
      "text/html": [
       "<div>\n",
       "<style scoped>\n",
       "    .dataframe tbody tr th:only-of-type {\n",
       "        vertical-align: middle;\n",
       "    }\n",
       "\n",
       "    .dataframe tbody tr th {\n",
       "        vertical-align: top;\n",
       "    }\n",
       "\n",
       "    .dataframe thead th {\n",
       "        text-align: right;\n",
       "    }\n",
       "</style>\n",
       "<table border=\"1\" class=\"dataframe\">\n",
       "  <thead>\n",
       "    <tr style=\"text-align: right;\">\n",
       "      <th>Series Game</th>\n",
       "      <th>misses/count</th>\n",
       "      <th>1</th>\n",
       "      <th>2</th>\n",
       "      <th>3</th>\n",
       "      <th>4</th>\n",
       "      <th>5</th>\n",
       "      <th>6</th>\n",
       "      <th>7</th>\n",
       "      <th>Total</th>\n",
       "    </tr>\n",
       "  </thead>\n",
       "  <tbody>\n",
       "    <tr>\n",
       "      <th>0</th>\n",
       "      <td>makes</td>\n",
       "      <td>9</td>\n",
       "      <td>12</td>\n",
       "      <td>12</td>\n",
       "      <td>10</td>\n",
       "      <td>4</td>\n",
       "      <td>6</td>\n",
       "      <td>1</td>\n",
       "      <td>54</td>\n",
       "    </tr>\n",
       "    <tr>\n",
       "      <th>1</th>\n",
       "      <td>misses</td>\n",
       "      <td>11</td>\n",
       "      <td>10</td>\n",
       "      <td>9</td>\n",
       "      <td>7</td>\n",
       "      <td>8</td>\n",
       "      <td>7</td>\n",
       "      <td>0</td>\n",
       "      <td>52</td>\n",
       "    </tr>\n",
       "  </tbody>\n",
       "</table>\n",
       "</div>"
      ],
      "text/plain": [
       "Series Game misses/count   1   2   3   4  5  6  7  Total\n",
       "0                  makes   9  12  12  10  4  6  1     54\n",
       "1                 misses  11  10   9   7  8  7  0     52"
      ]
     },
     "execution_count": 12,
     "metadata": {},
     "output_type": "execute_result"
    }
   ],
   "source": [
    "cross_df = pd.crosstab(combine_df['misses/count'], combine_df['Series Game'])\n",
    "cross_df = cross_df.reset_index()\n",
    "cross_df['Total'] = cross_df.sum(axis = 1)\n",
    "cross_df"
   ]
  },
  {
   "cell_type": "code",
   "execution_count": 13,
   "id": "90856175",
   "metadata": {},
   "outputs": [
    {
     "data": {
      "text/html": [
       "<div>\n",
       "<style scoped>\n",
       "    .dataframe tbody tr th:only-of-type {\n",
       "        vertical-align: middle;\n",
       "    }\n",
       "\n",
       "    .dataframe tbody tr th {\n",
       "        vertical-align: top;\n",
       "    }\n",
       "\n",
       "    .dataframe thead th {\n",
       "        text-align: right;\n",
       "    }\n",
       "</style>\n",
       "<table border=\"1\" class=\"dataframe\">\n",
       "  <thead>\n",
       "    <tr style=\"text-align: right;\">\n",
       "      <th>streak</th>\n",
       "      <th>misses/count</th>\n",
       "      <th>1</th>\n",
       "      <th>2</th>\n",
       "      <th>3</th>\n",
       "      <th>4</th>\n",
       "      <th>5</th>\n",
       "      <th>Total</th>\n",
       "    </tr>\n",
       "  </thead>\n",
       "  <tbody>\n",
       "    <tr>\n",
       "      <th>0</th>\n",
       "      <td>makes</td>\n",
       "      <td>31</td>\n",
       "      <td>11</td>\n",
       "      <td>7</td>\n",
       "      <td>5</td>\n",
       "      <td>0</td>\n",
       "      <td>54</td>\n",
       "    </tr>\n",
       "    <tr>\n",
       "      <th>1</th>\n",
       "      <td>misses</td>\n",
       "      <td>31</td>\n",
       "      <td>12</td>\n",
       "      <td>5</td>\n",
       "      <td>3</td>\n",
       "      <td>1</td>\n",
       "      <td>52</td>\n",
       "    </tr>\n",
       "  </tbody>\n",
       "</table>\n",
       "</div>"
      ],
      "text/plain": [
       "streak misses/count   1   2  3  4  5  Total\n",
       "0             makes  31  11  7  5  0     54\n",
       "1            misses  31  12  5  3  1     52"
      ]
     },
     "execution_count": 13,
     "metadata": {},
     "output_type": "execute_result"
    }
   ],
   "source": [
    "cross_streak_df = pd.crosstab(combine_df['misses/count'], combine_df['streak'])\n",
    "cross_streak_df = cross_streak_df.reset_index()\n",
    "cross_streak_df['Total'] = cross_streak_df.sum(axis = 1)\n",
    "cross_streak_df"
   ]
  },
  {
   "cell_type": "code",
   "execution_count": 14,
   "id": "7621cc2a",
   "metadata": {},
   "outputs": [],
   "source": [
    "makes_prob = cross_streak_df[[1,2,3,4,5]].loc[0] / 54\n",
    "misses_prob = cross_streak_df[[1,2,3,4,5]].loc[1] / 52\n",
    "\n",
    "prob_df = pd.DataFrame()\n",
    "prob_df['makes_prob'] = makes_prob\n",
    "prob_df['misses_prob'] = misses_prob\n",
    "prob_df = prob_df.reset_index()"
   ]
  },
  {
   "cell_type": "code",
   "execution_count": 15,
   "id": "ccef6aea",
   "metadata": {},
   "outputs": [
    {
     "data": {
      "text/plain": [
       "0.3548387096774194"
      ]
     },
     "execution_count": 15,
     "metadata": {},
     "output_type": "execute_result"
    }
   ],
   "source": [
    "11/31"
   ]
  },
  {
   "cell_type": "code",
   "execution_count": 16,
   "id": "ed959c77",
   "metadata": {},
   "outputs": [],
   "source": [
    "prob_df['converg_prob'] = [0.574, 0.355, 0.637, 0.714, 0.0]\n",
    "new_row = {'converg_prob' : 0, 'makes_prob': 0, 'misses_prob': 0, 'streak': 6}"
   ]
  },
  {
   "cell_type": "code",
   "execution_count": 17,
   "id": "c3c2088a",
   "metadata": {},
   "outputs": [],
   "source": [
    "prob_df = prob_df.append(new_row, ignore_index=True)"
   ]
  },
  {
   "cell_type": "code",
   "execution_count": 18,
   "id": "56cc402d",
   "metadata": {},
   "outputs": [
    {
     "data": {
      "text/html": [
       "<div>\n",
       "<style scoped>\n",
       "    .dataframe tbody tr th:only-of-type {\n",
       "        vertical-align: middle;\n",
       "    }\n",
       "\n",
       "    .dataframe tbody tr th {\n",
       "        vertical-align: top;\n",
       "    }\n",
       "\n",
       "    .dataframe thead th {\n",
       "        text-align: right;\n",
       "    }\n",
       "</style>\n",
       "<table border=\"1\" class=\"dataframe\">\n",
       "  <thead>\n",
       "    <tr style=\"text-align: right;\">\n",
       "      <th></th>\n",
       "      <th>streak</th>\n",
       "      <th>makes_prob</th>\n",
       "      <th>misses_prob</th>\n",
       "      <th>converg_prob</th>\n",
       "    </tr>\n",
       "  </thead>\n",
       "  <tbody>\n",
       "    <tr>\n",
       "      <th>0</th>\n",
       "      <td>1</td>\n",
       "      <td>0.574074</td>\n",
       "      <td>0.596154</td>\n",
       "      <td>0.574</td>\n",
       "    </tr>\n",
       "    <tr>\n",
       "      <th>1</th>\n",
       "      <td>2</td>\n",
       "      <td>0.203704</td>\n",
       "      <td>0.230769</td>\n",
       "      <td>0.355</td>\n",
       "    </tr>\n",
       "    <tr>\n",
       "      <th>2</th>\n",
       "      <td>3</td>\n",
       "      <td>0.129630</td>\n",
       "      <td>0.096154</td>\n",
       "      <td>0.637</td>\n",
       "    </tr>\n",
       "    <tr>\n",
       "      <th>3</th>\n",
       "      <td>4</td>\n",
       "      <td>0.092593</td>\n",
       "      <td>0.057692</td>\n",
       "      <td>0.714</td>\n",
       "    </tr>\n",
       "    <tr>\n",
       "      <th>4</th>\n",
       "      <td>5</td>\n",
       "      <td>0.000000</td>\n",
       "      <td>0.019231</td>\n",
       "      <td>0.000</td>\n",
       "    </tr>\n",
       "    <tr>\n",
       "      <th>5</th>\n",
       "      <td>6</td>\n",
       "      <td>0.000000</td>\n",
       "      <td>0.000000</td>\n",
       "      <td>0.000</td>\n",
       "    </tr>\n",
       "  </tbody>\n",
       "</table>\n",
       "</div>"
      ],
      "text/plain": [
       "   streak  makes_prob  misses_prob  converg_prob\n",
       "0       1    0.574074     0.596154         0.574\n",
       "1       2    0.203704     0.230769         0.355\n",
       "2       3    0.129630     0.096154         0.637\n",
       "3       4    0.092593     0.057692         0.714\n",
       "4       5    0.000000     0.019231         0.000\n",
       "5       6    0.000000     0.000000         0.000"
      ]
     },
     "execution_count": 18,
     "metadata": {},
     "output_type": "execute_result"
    }
   ],
   "source": [
    "prob_df"
   ]
  },
  {
   "cell_type": "code",
   "execution_count": 19,
   "id": "179def79",
   "metadata": {},
   "outputs": [
    {
     "name": "stderr",
     "output_type": "stream",
     "text": [
      "F:\\Anaconda\\lib\\site-packages\\seaborn\\distributions.py:2557: FutureWarning: `distplot` is a deprecated function and will be removed in a future version. Please adapt your code to use either `displot` (a figure-level function with similar flexibility) or `histplot` (an axes-level function for histograms).\n",
      "  warnings.warn(msg, FutureWarning)\n"
     ]
    },
    {
     "data": {
      "text/plain": [
       "<AxesSubplot:ylabel='Density'>"
      ]
     },
     "execution_count": 19,
     "metadata": {},
     "output_type": "execute_result"
    },
    {
     "data": {
      "image/png": "[encoded data removed]",
      "text/plain": [
       "<Figure size 432x288 with 1 Axes>"
      ]
     },
     "metadata": {
      "needs_background": "light"
     },
     "output_type": "display_data"
    }
   ],
   "source": [
    "sns.distplot(x = prob_df['converg_prob'])"
   ]
  },
  {
   "cell_type": "code",
   "execution_count": 20,
   "id": "a62ed6c6",
   "metadata": {},
   "outputs": [
    {
     "data": {
      "text/plain": [
       "0.5094339622641509"
      ]
     },
     "execution_count": 20,
     "metadata": {},
     "output_type": "execute_result"
    }
   ],
   "source": [
    "54/106"
   ]
  },
  {
   "cell_type": "code",
   "execution_count": 24,
   "id": "d4319b98",
   "metadata": {},
   "outputs": [
    {
     "data": {
      "image/png": "[encoded data removed]",
      "text/plain": [
       "<Figure size 432x288 with 1 Axes>"
      ]
     },
     "metadata": {},
     "output_type": "display_data"
    }
   ],
   "source": [
    "sns.set_style('darkgrid')\n",
    "ax = sns.barplot(x = 'streak', y = 'converg_prob', data = prob_df[prob_df['streak'] <= 4], color = 'b')\n",
    "ax = sns.pointplot(x = 'streak', y = 'converg_prob', data = prob_df[prob_df['streak'] <= 4], color = 'black', markers = '*')\n",
    "ax.set(xlabel='Treffer in Serie', ylabel='Wahrscheinlichkeit')\n",
    "ax.set_title('Trefferquote nach einem erfolgreichen  \\n Wurf von Maxi Kleber in den Playoffs 20022', fontsize= 15)\n",
    "# plt.show()\n",
    "plt.savefig('maxi.pdf', bbox_inches='tight', dpi = 1200)"
   ]
  },
  {
   "cell_type": "code",
   "execution_count": 64,
   "id": "841a88af",
   "metadata": {},
   "outputs": [
    {
     "data": {
      "text/plain": [
       "<AxesSubplot:xlabel='streak', ylabel='converg_prob'>"
      ]
     },
     "execution_count": 64,
     "metadata": {},
     "output_type": "execute_result"
    },
    {
     "data": {
      "image/png": "[encoded data removed]",
      "text/plain": [
       "<Figure size 432x288 with 1 Axes>"
      ]
     },
     "metadata": {
      "needs_background": "light"
     },
     "output_type": "display_data"
    }
   ],
   "source": [
    "sns.lineplot(x = 'streak', y = 'converg_prob', err_style='bars', data = prob_df)"
   ]
  },
  {
   "cell_type": "code",
   "execution_count": 14,
   "id": "93bc7e8f",
   "metadata": {
    "scrolled": true
   },
   "outputs": [
    {
     "data": {
      "text/html": [
       "<div>\n",
       "<style scoped>\n",
       "    .dataframe tbody tr th:only-of-type {\n",
       "        vertical-align: middle;\n",
       "    }\n",
       "\n",
       "    .dataframe tbody tr th {\n",
       "        vertical-align: top;\n",
       "    }\n",
       "\n",
       "    .dataframe thead th {\n",
       "        text-align: right;\n",
       "    }\n",
       "</style>\n",
       "<table border=\"1\" class=\"dataframe\">\n",
       "  <thead>\n",
       "    <tr style=\"text-align: right;\">\n",
       "      <th></th>\n",
       "      <th>Series Game</th>\n",
       "      <th>quarter</th>\n",
       "      <th>misses/count</th>\n",
       "      <th>streak</th>\n",
       "    </tr>\n",
       "  </thead>\n",
       "  <tbody>\n",
       "    <tr>\n",
       "      <th>0</th>\n",
       "      <td>1</td>\n",
       "      <td>1.0</td>\n",
       "      <td>makes</td>\n",
       "      <td>1</td>\n",
       "    </tr>\n",
       "    <tr>\n",
       "      <th>1</th>\n",
       "      <td>1</td>\n",
       "      <td>1.0</td>\n",
       "      <td>makes</td>\n",
       "      <td>2</td>\n",
       "    </tr>\n",
       "    <tr>\n",
       "      <th>2</th>\n",
       "      <td>1</td>\n",
       "      <td>1.0</td>\n",
       "      <td>makes</td>\n",
       "      <td>3</td>\n",
       "    </tr>\n",
       "    <tr>\n",
       "      <th>3</th>\n",
       "      <td>1</td>\n",
       "      <td>2.0</td>\n",
       "      <td>makes</td>\n",
       "      <td>4</td>\n",
       "    </tr>\n",
       "    <tr>\n",
       "      <th>5</th>\n",
       "      <td>1</td>\n",
       "      <td>2.0</td>\n",
       "      <td>makes</td>\n",
       "      <td>1</td>\n",
       "    </tr>\n",
       "    <tr>\n",
       "      <th>13</th>\n",
       "      <td>1</td>\n",
       "      <td>4.0</td>\n",
       "      <td>makes</td>\n",
       "      <td>1</td>\n",
       "    </tr>\n",
       "    <tr>\n",
       "      <th>14</th>\n",
       "      <td>2</td>\n",
       "      <td>1.0</td>\n",
       "      <td>makes</td>\n",
       "      <td>1</td>\n",
       "    </tr>\n",
       "    <tr>\n",
       "      <th>16</th>\n",
       "      <td>2</td>\n",
       "      <td>1.0</td>\n",
       "      <td>makes</td>\n",
       "      <td>1</td>\n",
       "    </tr>\n",
       "    <tr>\n",
       "      <th>22</th>\n",
       "      <td>2</td>\n",
       "      <td>3.0</td>\n",
       "      <td>makes</td>\n",
       "      <td>1</td>\n",
       "    </tr>\n",
       "    <tr>\n",
       "      <th>23</th>\n",
       "      <td>3</td>\n",
       "      <td>1.0</td>\n",
       "      <td>makes</td>\n",
       "      <td>1</td>\n",
       "    </tr>\n",
       "    <tr>\n",
       "      <th>24</th>\n",
       "      <td>3</td>\n",
       "      <td>1.0</td>\n",
       "      <td>makes</td>\n",
       "      <td>2</td>\n",
       "    </tr>\n",
       "    <tr>\n",
       "      <th>25</th>\n",
       "      <td>3</td>\n",
       "      <td>2.0</td>\n",
       "      <td>makes</td>\n",
       "      <td>3</td>\n",
       "    </tr>\n",
       "    <tr>\n",
       "      <th>26</th>\n",
       "      <td>3</td>\n",
       "      <td>3.0</td>\n",
       "      <td>makes</td>\n",
       "      <td>4</td>\n",
       "    </tr>\n",
       "    <tr>\n",
       "      <th>29</th>\n",
       "      <td>3</td>\n",
       "      <td>3.0</td>\n",
       "      <td>makes</td>\n",
       "      <td>1</td>\n",
       "    </tr>\n",
       "    <tr>\n",
       "      <th>30</th>\n",
       "      <td>3</td>\n",
       "      <td>4.0</td>\n",
       "      <td>makes</td>\n",
       "      <td>2</td>\n",
       "    </tr>\n",
       "    <tr>\n",
       "      <th>32</th>\n",
       "      <td>4</td>\n",
       "      <td>1.0</td>\n",
       "      <td>makes</td>\n",
       "      <td>1</td>\n",
       "    </tr>\n",
       "    <tr>\n",
       "      <th>34</th>\n",
       "      <td>4</td>\n",
       "      <td>2.0</td>\n",
       "      <td>makes</td>\n",
       "      <td>1</td>\n",
       "    </tr>\n",
       "    <tr>\n",
       "      <th>38</th>\n",
       "      <td>4</td>\n",
       "      <td>3.0</td>\n",
       "      <td>makes</td>\n",
       "      <td>1</td>\n",
       "    </tr>\n",
       "    <tr>\n",
       "      <th>40</th>\n",
       "      <td>4</td>\n",
       "      <td>4.0</td>\n",
       "      <td>makes</td>\n",
       "      <td>1</td>\n",
       "    </tr>\n",
       "    <tr>\n",
       "      <th>41</th>\n",
       "      <td>5</td>\n",
       "      <td>1.0</td>\n",
       "      <td>makes</td>\n",
       "      <td>1</td>\n",
       "    </tr>\n",
       "    <tr>\n",
       "      <th>49</th>\n",
       "      <td>6</td>\n",
       "      <td>1.0</td>\n",
       "      <td>makes</td>\n",
       "      <td>1</td>\n",
       "    </tr>\n",
       "    <tr>\n",
       "      <th>50</th>\n",
       "      <td>6</td>\n",
       "      <td>2.0</td>\n",
       "      <td>makes</td>\n",
       "      <td>2</td>\n",
       "    </tr>\n",
       "    <tr>\n",
       "      <th>51</th>\n",
       "      <td>6</td>\n",
       "      <td>3.0</td>\n",
       "      <td>makes</td>\n",
       "      <td>3</td>\n",
       "    </tr>\n",
       "    <tr>\n",
       "      <th>54</th>\n",
       "      <td>7</td>\n",
       "      <td>1.0</td>\n",
       "      <td>makes</td>\n",
       "      <td>1</td>\n",
       "    </tr>\n",
       "    <tr>\n",
       "      <th>1</th>\n",
       "      <td>1</td>\n",
       "      <td>2.0</td>\n",
       "      <td>makes</td>\n",
       "      <td>1</td>\n",
       "    </tr>\n",
       "    <tr>\n",
       "      <th>9</th>\n",
       "      <td>1</td>\n",
       "      <td>4.0</td>\n",
       "      <td>makes</td>\n",
       "      <td>1</td>\n",
       "    </tr>\n",
       "    <tr>\n",
       "      <th>12</th>\n",
       "      <td>2</td>\n",
       "      <td>1.0</td>\n",
       "      <td>makes</td>\n",
       "      <td>1</td>\n",
       "    </tr>\n",
       "    <tr>\n",
       "      <th>13</th>\n",
       "      <td>2</td>\n",
       "      <td>2.0</td>\n",
       "      <td>makes</td>\n",
       "      <td>2</td>\n",
       "    </tr>\n",
       "    <tr>\n",
       "      <th>14</th>\n",
       "      <td>2</td>\n",
       "      <td>3.0</td>\n",
       "      <td>makes</td>\n",
       "      <td>3</td>\n",
       "    </tr>\n",
       "    <tr>\n",
       "      <th>15</th>\n",
       "      <td>2</td>\n",
       "      <td>3.0</td>\n",
       "      <td>makes</td>\n",
       "      <td>4</td>\n",
       "    </tr>\n",
       "    <tr>\n",
       "      <th>17</th>\n",
       "      <td>2</td>\n",
       "      <td>3.0</td>\n",
       "      <td>makes</td>\n",
       "      <td>1</td>\n",
       "    </tr>\n",
       "    <tr>\n",
       "      <th>18</th>\n",
       "      <td>2</td>\n",
       "      <td>4.0</td>\n",
       "      <td>makes</td>\n",
       "      <td>2</td>\n",
       "    </tr>\n",
       "    <tr>\n",
       "      <th>21</th>\n",
       "      <td>2</td>\n",
       "      <td>4.0</td>\n",
       "      <td>makes</td>\n",
       "      <td>3</td>\n",
       "    </tr>\n",
       "    <tr>\n",
       "      <th>22</th>\n",
       "      <td>2</td>\n",
       "      <td>4.0</td>\n",
       "      <td>makes</td>\n",
       "      <td>4</td>\n",
       "    </tr>\n",
       "    <tr>\n",
       "      <th>24</th>\n",
       "      <td>3</td>\n",
       "      <td>1.0</td>\n",
       "      <td>makes</td>\n",
       "      <td>1</td>\n",
       "    </tr>\n",
       "    <tr>\n",
       "      <th>25</th>\n",
       "      <td>3</td>\n",
       "      <td>1.0</td>\n",
       "      <td>makes</td>\n",
       "      <td>2</td>\n",
       "    </tr>\n",
       "    <tr>\n",
       "      <th>26</th>\n",
       "      <td>3</td>\n",
       "      <td>1.0</td>\n",
       "      <td>makes</td>\n",
       "      <td>3</td>\n",
       "    </tr>\n",
       "    <tr>\n",
       "      <th>29</th>\n",
       "      <td>3</td>\n",
       "      <td>2.0</td>\n",
       "      <td>makes</td>\n",
       "      <td>4</td>\n",
       "    </tr>\n",
       "    <tr>\n",
       "      <th>31</th>\n",
       "      <td>3</td>\n",
       "      <td>3.0</td>\n",
       "      <td>makes</td>\n",
       "      <td>1</td>\n",
       "    </tr>\n",
       "    <tr>\n",
       "      <th>32</th>\n",
       "      <td>3</td>\n",
       "      <td>4.0</td>\n",
       "      <td>makes</td>\n",
       "      <td>2</td>\n",
       "    </tr>\n",
       "    <tr>\n",
       "      <th>34</th>\n",
       "      <td>4</td>\n",
       "      <td>1.0</td>\n",
       "      <td>makes</td>\n",
       "      <td>1</td>\n",
       "    </tr>\n",
       "    <tr>\n",
       "      <th>39</th>\n",
       "      <td>6</td>\n",
       "      <td>1.0</td>\n",
       "      <td>makes</td>\n",
       "      <td>1</td>\n",
       "    </tr>\n",
       "    <tr>\n",
       "      <th>42</th>\n",
       "      <td>6</td>\n",
       "      <td>3.0</td>\n",
       "      <td>makes</td>\n",
       "      <td>1</td>\n",
       "    </tr>\n",
       "    <tr>\n",
       "      <th>44</th>\n",
       "      <td>6</td>\n",
       "      <td>4.0</td>\n",
       "      <td>makes</td>\n",
       "      <td>1</td>\n",
       "    </tr>\n",
       "    <tr>\n",
       "      <th>47</th>\n",
       "      <td>1</td>\n",
       "      <td>3.0</td>\n",
       "      <td>makes</td>\n",
       "      <td>1</td>\n",
       "    </tr>\n",
       "    <tr>\n",
       "      <th>53</th>\n",
       "      <td>2</td>\n",
       "      <td>3.0</td>\n",
       "      <td>makes</td>\n",
       "      <td>1</td>\n",
       "    </tr>\n",
       "    <tr>\n",
       "      <th>59</th>\n",
       "      <td>4</td>\n",
       "      <td>1.0</td>\n",
       "      <td>makes</td>\n",
       "      <td>1</td>\n",
       "    </tr>\n",
       "    <tr>\n",
       "      <th>60</th>\n",
       "      <td>4</td>\n",
       "      <td>1.0</td>\n",
       "      <td>makes</td>\n",
       "      <td>2</td>\n",
       "    </tr>\n",
       "    <tr>\n",
       "      <th>62</th>\n",
       "      <td>4</td>\n",
       "      <td>3.0</td>\n",
       "      <td>makes</td>\n",
       "      <td>1</td>\n",
       "    </tr>\n",
       "    <tr>\n",
       "      <th>64</th>\n",
       "      <td>4</td>\n",
       "      <td>3.0</td>\n",
       "      <td>makes</td>\n",
       "      <td>2</td>\n",
       "    </tr>\n",
       "    <tr>\n",
       "      <th>65</th>\n",
       "      <td>4</td>\n",
       "      <td>4.0</td>\n",
       "      <td>makes</td>\n",
       "      <td>3</td>\n",
       "    </tr>\n",
       "    <tr>\n",
       "      <th>66</th>\n",
       "      <td>5</td>\n",
       "      <td>1.0</td>\n",
       "      <td>makes</td>\n",
       "      <td>1</td>\n",
       "    </tr>\n",
       "    <tr>\n",
       "      <th>70</th>\n",
       "      <td>5</td>\n",
       "      <td>2.0</td>\n",
       "      <td>makes</td>\n",
       "      <td>1</td>\n",
       "    </tr>\n",
       "    <tr>\n",
       "      <th>71</th>\n",
       "      <td>5</td>\n",
       "      <td>3.0</td>\n",
       "      <td>makes</td>\n",
       "      <td>2</td>\n",
       "    </tr>\n",
       "  </tbody>\n",
       "</table>\n",
       "</div>"
      ],
      "text/plain": [
       "    Series Game  quarter misses/count  streak\n",
       "0             1      1.0        makes       1\n",
       "1             1      1.0        makes       2\n",
       "2             1      1.0        makes       3\n",
       "3             1      2.0        makes       4\n",
       "5             1      2.0        makes       1\n",
       "13            1      4.0        makes       1\n",
       "14            2      1.0        makes       1\n",
       "16            2      1.0        makes       1\n",
       "22            2      3.0        makes       1\n",
       "23            3      1.0        makes       1\n",
       "24            3      1.0        makes       2\n",
       "25            3      2.0        makes       3\n",
       "26            3      3.0        makes       4\n",
       "29            3      3.0        makes       1\n",
       "30            3      4.0        makes       2\n",
       "32            4      1.0        makes       1\n",
       "34            4      2.0        makes       1\n",
       "38            4      3.0        makes       1\n",
       "40            4      4.0        makes       1\n",
       "41            5      1.0        makes       1\n",
       "49            6      1.0        makes       1\n",
       "50            6      2.0        makes       2\n",
       "51            6      3.0        makes       3\n",
       "54            7      1.0        makes       1\n",
       "1             1      2.0        makes       1\n",
       "9             1      4.0        makes       1\n",
       "12            2      1.0        makes       1\n",
       "13            2      2.0        makes       2\n",
       "14            2      3.0        makes       3\n",
       "15            2      3.0        makes       4\n",
       "17            2      3.0        makes       1\n",
       "18            2      4.0        makes       2\n",
       "21            2      4.0        makes       3\n",
       "22            2      4.0        makes       4\n",
       "24            3      1.0        makes       1\n",
       "25            3      1.0        makes       2\n",
       "26            3      1.0        makes       3\n",
       "29            3      2.0        makes       4\n",
       "31            3      3.0        makes       1\n",
       "32            3      4.0        makes       2\n",
       "34            4      1.0        makes       1\n",
       "39            6      1.0        makes       1\n",
       "42            6      3.0        makes       1\n",
       "44            6      4.0        makes       1\n",
       "47            1      3.0        makes       1\n",
       "53            2      3.0        makes       1\n",
       "59            4      1.0        makes       1\n",
       "60            4      1.0        makes       2\n",
       "62            4      3.0        makes       1\n",
       "64            4      3.0        makes       2\n",
       "65            4      4.0        makes       3\n",
       "66            5      1.0        makes       1\n",
       "70            5      2.0        makes       1\n",
       "71            5      3.0        makes       2"
      ]
     },
     "execution_count": 14,
     "metadata": {},
     "output_type": "execute_result"
    }
   ],
   "source": [
    "combine_df[combine_df['misses/count'] == 'makes'][['Series Game', 'quarter', 'misses/count', 'streak']]"
   ]
  },
  {
   "cell_type": "code",
   "execution_count": 32,
   "id": "47cad412",
   "metadata": {},
   "outputs": [],
   "source": [
    "import matplotlib.pyplot as plt"
   ]
  },
  {
   "cell_type": "code",
   "execution_count": 37,
   "id": "b3c6a50c",
   "metadata": {},
   "outputs": [
    {
     "data": {
      "text/plain": [
       "<matplotlib.collections.PathCollection at 0x20cbb467dc0>"
      ]
     },
     "execution_count": 37,
     "metadata": {},
     "output_type": "execute_result"
    },
    {
     "data": {
      "image/png": "[encoded data removed]",
      "text/plain": [
       "<Figure size 432x288 with 1 Axes>"
      ]
     },
     "metadata": {
      "needs_background": "light"
     },
     "output_type": "display_data"
    }
   ],
   "source": [
    "plt.scatter(df_to_use['streak'], df_to_use['Series Game'])"
   ]
  },
  {
   "cell_type": "code",
   "execution_count": 2,
   "id": "d4cf4fc8",
   "metadata": {},
   "outputs": [],
   "source": [
    "smart_df = pd.read_csv('m_smart_all_series_games_data.csv')"
   ]
  },
  {
   "cell_type": "code",
   "execution_count": 10,
   "id": "503ec8c4",
   "metadata": {},
   "outputs": [],
   "source": [
    "smart_df['misses/count_binary'] = np.where(smart_df['misses/count'] == 'makes', 1, 0)\n",
    "three_pt_df = smart_df[smart_df['basket_type'] == '3-pt']"
   ]
  },
  {
   "cell_type": "code",
   "execution_count": 95,
   "id": "4ad77690",
   "metadata": {},
   "outputs": [],
   "source": [
    "smart_df['streak'] = smart_df['misses/count_binary'].groupby((smart_df['misses/count_binary'] != smart_df.groupby(['Series Game', 'quarter'])['misses/count_binary'].shift()).cumsum()).cumcount() + 1"
   ]
  },
  {
   "cell_type": "code",
   "execution_count": 34,
   "id": "83783700",
   "metadata": {},
   "outputs": [],
   "source": [
    "cross_df = pd.crosstab(smart_df['misses/count'], smart_df['Series Game'])\n",
    "cross_df = cross_df.reset_index()\n",
    "cross_df['Total'] = cross_df.sum(axis = 1)"
   ]
  },
  {
   "cell_type": "code",
   "execution_count": 69,
   "id": "4f7e5f4d",
   "metadata": {},
   "outputs": [
    {
     "data": {
      "text/html": [
       "<div>\n",
       "<style scoped>\n",
       "    .dataframe tbody tr th:only-of-type {\n",
       "        vertical-align: middle;\n",
       "    }\n",
       "\n",
       "    .dataframe tbody tr th {\n",
       "        vertical-align: top;\n",
       "    }\n",
       "\n",
       "    .dataframe thead th {\n",
       "        text-align: right;\n",
       "    }\n",
       "</style>\n",
       "<table border=\"1\" class=\"dataframe\">\n",
       "  <thead>\n",
       "    <tr style=\"text-align: right;\">\n",
       "      <th>Series Game</th>\n",
       "      <th>misses/count</th>\n",
       "      <th>1</th>\n",
       "      <th>3</th>\n",
       "      <th>4</th>\n",
       "      <th>5</th>\n",
       "      <th>6</th>\n",
       "      <th>7</th>\n",
       "      <th>Total</th>\n",
       "    </tr>\n",
       "  </thead>\n",
       "  <tbody>\n",
       "    <tr>\n",
       "      <th>0</th>\n",
       "      <td>makes</td>\n",
       "      <td>6</td>\n",
       "      <td>7</td>\n",
       "      <td>8</td>\n",
       "      <td>6</td>\n",
       "      <td>8</td>\n",
       "      <td>8</td>\n",
       "      <td>43</td>\n",
       "    </tr>\n",
       "    <tr>\n",
       "      <th>1</th>\n",
       "      <td>misses</td>\n",
       "      <td>9</td>\n",
       "      <td>9</td>\n",
       "      <td>5</td>\n",
       "      <td>5</td>\n",
       "      <td>8</td>\n",
       "      <td>8</td>\n",
       "      <td>44</td>\n",
       "    </tr>\n",
       "  </tbody>\n",
       "</table>\n",
       "</div>"
      ],
      "text/plain": [
       "Series Game misses/count  1  3  4  5  6  7  Total\n",
       "0                  makes  6  7  8  6  8  8     43\n",
       "1                 misses  9  9  5  5  8  8     44"
      ]
     },
     "execution_count": 69,
     "metadata": {},
     "output_type": "execute_result"
    }
   ],
   "source": [
    "cross_df"
   ]
  },
  {
   "cell_type": "code",
   "execution_count": 91,
   "id": "f931ce3f",
   "metadata": {},
   "outputs": [],
   "source": [
    "makes_prob = cross_df[[1,3,4,5,6,7]].loc[0] / 43\n",
    "misses_prob = cross_df[[1,3,4,5,6,7]].loc[1] / 44\n",
    "\n",
    "prob_df = pd.DataFrame()\n",
    "prob_df['makes_prob'] = makes_prob\n",
    "prob_df['misses_prob'] = misses_prob\n",
    "prob_df = prob_df.reset_index()"
   ]
  },
  {
   "cell_type": "code",
   "execution_count": 112,
   "id": "7f7ce41d",
   "metadata": {},
   "outputs": [
    {
     "data": {
      "text/html": [
       "<div>\n",
       "<style scoped>\n",
       "    .dataframe tbody tr th:only-of-type {\n",
       "        vertical-align: middle;\n",
       "    }\n",
       "\n",
       "    .dataframe tbody tr th {\n",
       "        vertical-align: top;\n",
       "    }\n",
       "\n",
       "    .dataframe thead th {\n",
       "        text-align: right;\n",
       "    }\n",
       "</style>\n",
       "<table border=\"1\" class=\"dataframe\">\n",
       "  <thead>\n",
       "    <tr style=\"text-align: right;\">\n",
       "      <th></th>\n",
       "      <th>Series Game</th>\n",
       "      <th>makes_prob</th>\n",
       "      <th>misses_prob</th>\n",
       "    </tr>\n",
       "  </thead>\n",
       "  <tbody>\n",
       "    <tr>\n",
       "      <th>0</th>\n",
       "      <td>1</td>\n",
       "      <td>0.139535</td>\n",
       "      <td>0.204545</td>\n",
       "    </tr>\n",
       "    <tr>\n",
       "      <th>1</th>\n",
       "      <td>3</td>\n",
       "      <td>0.162791</td>\n",
       "      <td>0.204545</td>\n",
       "    </tr>\n",
       "    <tr>\n",
       "      <th>2</th>\n",
       "      <td>4</td>\n",
       "      <td>0.186047</td>\n",
       "      <td>0.113636</td>\n",
       "    </tr>\n",
       "    <tr>\n",
       "      <th>3</th>\n",
       "      <td>5</td>\n",
       "      <td>0.139535</td>\n",
       "      <td>0.113636</td>\n",
       "    </tr>\n",
       "    <tr>\n",
       "      <th>4</th>\n",
       "      <td>6</td>\n",
       "      <td>0.186047</td>\n",
       "      <td>0.181818</td>\n",
       "    </tr>\n",
       "    <tr>\n",
       "      <th>5</th>\n",
       "      <td>7</td>\n",
       "      <td>0.186047</td>\n",
       "      <td>0.181818</td>\n",
       "    </tr>\n",
       "  </tbody>\n",
       "</table>\n",
       "</div>"
      ],
      "text/plain": [
       "   Series Game  makes_prob  misses_prob\n",
       "0            1    0.139535     0.204545\n",
       "1            3    0.162791     0.204545\n",
       "2            4    0.186047     0.113636\n",
       "3            5    0.139535     0.113636\n",
       "4            6    0.186047     0.181818\n",
       "5            7    0.186047     0.181818"
      ]
     },
     "execution_count": 112,
     "metadata": {},
     "output_type": "execute_result"
    }
   ],
   "source": [
    "prob_df"
   ]
  },
  {
   "cell_type": "code",
   "execution_count": 96,
   "id": "3fd56eab",
   "metadata": {},
   "outputs": [],
   "source": [
    "cross_df = pd.crosstab(smart_df['misses/count'], smart_df['streak'])\n",
    "cross_df = cross_df.reset_index()\n",
    "cross_df['Total'] = cross_df.sum(axis = 1)"
   ]
  },
  {
   "cell_type": "code",
   "execution_count": 98,
   "id": "ff5c4990",
   "metadata": {},
   "outputs": [],
   "source": [
    "makes_prob = cross_df[[1,2,3,4]].loc[0] / 43\n",
    "misses_prob = cross_df[[1,2,3,4]].loc[1] / 44\n",
    "\n",
    "streak_prob_df = pd.DataFrame()\n",
    "streak_prob_df['makes_prob'] = makes_prob\n",
    "streak_prob_df['misses_prob'] = misses_prob"
   ]
  },
  {
   "cell_type": "code",
   "execution_count": 101,
   "id": "ea17925f",
   "metadata": {},
   "outputs": [],
   "source": [
    "streak_prob_df = streak_prob_df.reset_index()"
   ]
  },
  {
   "cell_type": "code",
   "execution_count": 104,
   "id": "0f618d2c",
   "metadata": {},
   "outputs": [
    {
     "data": {
      "text/html": [
       "<div>\n",
       "<style scoped>\n",
       "    .dataframe tbody tr th:only-of-type {\n",
       "        vertical-align: middle;\n",
       "    }\n",
       "\n",
       "    .dataframe tbody tr th {\n",
       "        vertical-align: top;\n",
       "    }\n",
       "\n",
       "    .dataframe thead th {\n",
       "        text-align: right;\n",
       "    }\n",
       "</style>\n",
       "<table border=\"1\" class=\"dataframe\">\n",
       "  <thead>\n",
       "    <tr style=\"text-align: right;\">\n",
       "      <th></th>\n",
       "      <th>streak</th>\n",
       "      <th>makes_prob</th>\n",
       "      <th>misses_prob</th>\n",
       "    </tr>\n",
       "  </thead>\n",
       "  <tbody>\n",
       "    <tr>\n",
       "      <th>0</th>\n",
       "      <td>1</td>\n",
       "      <td>0.581395</td>\n",
       "      <td>0.681818</td>\n",
       "    </tr>\n",
       "    <tr>\n",
       "      <th>1</th>\n",
       "      <td>2</td>\n",
       "      <td>0.255814</td>\n",
       "      <td>0.272727</td>\n",
       "    </tr>\n",
       "    <tr>\n",
       "      <th>2</th>\n",
       "      <td>3</td>\n",
       "      <td>0.116279</td>\n",
       "      <td>0.045455</td>\n",
       "    </tr>\n",
       "    <tr>\n",
       "      <th>3</th>\n",
       "      <td>4</td>\n",
       "      <td>0.046512</td>\n",
       "      <td>0.000000</td>\n",
       "    </tr>\n",
       "  </tbody>\n",
       "</table>\n",
       "</div>"
      ],
      "text/plain": [
       "   streak  makes_prob  misses_prob\n",
       "0       1    0.581395     0.681818\n",
       "1       2    0.255814     0.272727\n",
       "2       3    0.116279     0.045455\n",
       "3       4    0.046512     0.000000"
      ]
     },
     "execution_count": 104,
     "metadata": {},
     "output_type": "execute_result"
    }
   ],
   "source": [
    "streak_prob_df"
   ]
  },
  {
   "cell_type": "code",
   "execution_count": 126,
   "id": "00b3ca53",
   "metadata": {},
   "outputs": [
    {
     "data": {
      "text/plain": [
       "<AxesSubplot:xlabel='makes_prob', ylabel='Density'>"
      ]
     },
     "execution_count": 126,
     "metadata": {},
     "output_type": "execute_result"
    },
    {
     "data": {
      "image/png": "[encoded data removed]",
      "text/plain": [
       "<Figure size 432x288 with 1 Axes>"
      ]
     },
     "metadata": {
      "needs_background": "light"
     },
     "output_type": "display_data"
    }
   ],
   "source": [
    "sns.kdeplot(prob_df['makes_prob'], shade=True)\n",
    "sns.kdeplot(prob_df['misses_prob'], shade=True)"
   ]
  },
  {
   "cell_type": "code",
   "execution_count": 128,
   "id": "5dc6e9e5",
   "metadata": {},
   "outputs": [
    {
     "data": {
      "text/plain": [
       "<AxesSubplot:xlabel='streak', ylabel='makes_prob'>"
      ]
     },
     "execution_count": 128,
     "metadata": {},
     "output_type": "execute_result"
    },
    {
     "data": {
      "image/png": "[encoded data removed]",
      "text/plain": [
       "<Figure size 432x288 with 1 Axes>"
      ]
     },
     "metadata": {
      "needs_background": "light"
     },
     "output_type": "display_data"
    }
   ],
   "source": [
    "sns.lineplot(x = 'streak', y = 'makes_prob', err_style=\"bars\", data = streak_prob_df)\n",
    "\n",
    "# sns.lineplot(x = prob_df['Series Game'], y = prob_df['misses_prob'])"
   ]
  },
  {
   "cell_type": "code",
   "execution_count": 106,
   "id": "6ed789a5",
   "metadata": {},
   "outputs": [
    {
     "data": {
      "text/plain": [
       "<AxesSubplot:xlabel='streak', ylabel='makes_prob'>"
      ]
     },
     "execution_count": 106,
     "metadata": {},
     "output_type": "execute_result"
    },
    {
     "data": {
      "image/png": "[encoded data removed]",
      "text/plain": [
       "<Figure size 432x288 with 1 Axes>"
      ]
     },
     "metadata": {
      "needs_background": "light"
     },
     "output_type": "display_data"
    }
   ],
   "source": [
    "sns.lineplot(x = streak_prob_df['streak'], y = streak_prob_df['makes_prob'])\n",
    "sns.lineplot(x = streak_prob_df['streak'], y = streak_prob_df['misses_prob'])"
   ]
  },
  {
   "cell_type": "code",
   "execution_count": 25,
   "id": "2ce25014",
   "metadata": {},
   "outputs": [
    {
     "data": {
      "text/plain": [
       "misses    44\n",
       "makes     43\n",
       "Name: misses/count, dtype: int64"
      ]
     },
     "execution_count": 25,
     "metadata": {},
     "output_type": "execute_result"
    }
   ],
   "source": [
    "smart_df['misses/count'].value_counts()"
   ]
  },
  {
   "cell_type": "code",
   "execution_count": 18,
   "id": "e16c1ced",
   "metadata": {},
   "outputs": [
    {
     "data": {
      "text/html": [
       "<div>\n",
       "<style scoped>\n",
       "    .dataframe tbody tr th:only-of-type {\n",
       "        vertical-align: middle;\n",
       "    }\n",
       "\n",
       "    .dataframe tbody tr th {\n",
       "        vertical-align: top;\n",
       "    }\n",
       "\n",
       "    .dataframe thead th {\n",
       "        text-align: right;\n",
       "    }\n",
       "</style>\n",
       "<table border=\"1\" class=\"dataframe\">\n",
       "  <thead>\n",
       "    <tr style=\"text-align: right;\">\n",
       "      <th></th>\n",
       "      <th>Series Game</th>\n",
       "      <th>quarter</th>\n",
       "      <th>misses/count</th>\n",
       "      <th>streak</th>\n",
       "    </tr>\n",
       "  </thead>\n",
       "  <tbody>\n",
       "    <tr>\n",
       "      <th>0</th>\n",
       "      <td>1</td>\n",
       "      <td>1.0</td>\n",
       "      <td>makes</td>\n",
       "      <td>1</td>\n",
       "    </tr>\n",
       "    <tr>\n",
       "      <th>3</th>\n",
       "      <td>1</td>\n",
       "      <td>1.0</td>\n",
       "      <td>misses</td>\n",
       "      <td>1</td>\n",
       "    </tr>\n",
       "    <tr>\n",
       "      <th>6</th>\n",
       "      <td>1</td>\n",
       "      <td>2.0</td>\n",
       "      <td>misses</td>\n",
       "      <td>1</td>\n",
       "    </tr>\n",
       "    <tr>\n",
       "      <th>7</th>\n",
       "      <td>1</td>\n",
       "      <td>2.0</td>\n",
       "      <td>misses</td>\n",
       "      <td>2</td>\n",
       "    </tr>\n",
       "    <tr>\n",
       "      <th>8</th>\n",
       "      <td>1</td>\n",
       "      <td>3.0</td>\n",
       "      <td>misses</td>\n",
       "      <td>1</td>\n",
       "    </tr>\n",
       "    <tr>\n",
       "      <th>10</th>\n",
       "      <td>1</td>\n",
       "      <td>3.0</td>\n",
       "      <td>misses</td>\n",
       "      <td>2</td>\n",
       "    </tr>\n",
       "    <tr>\n",
       "      <th>21</th>\n",
       "      <td>3</td>\n",
       "      <td>3.0</td>\n",
       "      <td>misses</td>\n",
       "      <td>1</td>\n",
       "    </tr>\n",
       "    <tr>\n",
       "      <th>22</th>\n",
       "      <td>3</td>\n",
       "      <td>3.0</td>\n",
       "      <td>makes</td>\n",
       "      <td>1</td>\n",
       "    </tr>\n",
       "    <tr>\n",
       "      <th>23</th>\n",
       "      <td>3</td>\n",
       "      <td>3.0</td>\n",
       "      <td>misses</td>\n",
       "      <td>1</td>\n",
       "    </tr>\n",
       "    <tr>\n",
       "      <th>27</th>\n",
       "      <td>3</td>\n",
       "      <td>4.0</td>\n",
       "      <td>misses</td>\n",
       "      <td>1</td>\n",
       "    </tr>\n",
       "    <tr>\n",
       "      <th>31</th>\n",
       "      <td>4</td>\n",
       "      <td>1.0</td>\n",
       "      <td>misses</td>\n",
       "      <td>1</td>\n",
       "    </tr>\n",
       "    <tr>\n",
       "      <th>36</th>\n",
       "      <td>4</td>\n",
       "      <td>2.0</td>\n",
       "      <td>makes</td>\n",
       "      <td>1</td>\n",
       "    </tr>\n",
       "    <tr>\n",
       "      <th>40</th>\n",
       "      <td>4</td>\n",
       "      <td>4.0</td>\n",
       "      <td>makes</td>\n",
       "      <td>1</td>\n",
       "    </tr>\n",
       "    <tr>\n",
       "      <th>48</th>\n",
       "      <td>5</td>\n",
       "      <td>1.0</td>\n",
       "      <td>misses</td>\n",
       "      <td>1</td>\n",
       "    </tr>\n",
       "    <tr>\n",
       "      <th>49</th>\n",
       "      <td>5</td>\n",
       "      <td>2.0</td>\n",
       "      <td>makes</td>\n",
       "      <td>1</td>\n",
       "    </tr>\n",
       "    <tr>\n",
       "      <th>51</th>\n",
       "      <td>5</td>\n",
       "      <td>3.0</td>\n",
       "      <td>makes</td>\n",
       "      <td>1</td>\n",
       "    </tr>\n",
       "    <tr>\n",
       "      <th>52</th>\n",
       "      <td>5</td>\n",
       "      <td>3.0</td>\n",
       "      <td>makes</td>\n",
       "      <td>2</td>\n",
       "    </tr>\n",
       "    <tr>\n",
       "      <th>53</th>\n",
       "      <td>5</td>\n",
       "      <td>3.0</td>\n",
       "      <td>misses</td>\n",
       "      <td>1</td>\n",
       "    </tr>\n",
       "    <tr>\n",
       "      <th>55</th>\n",
       "      <td>6</td>\n",
       "      <td>1.0</td>\n",
       "      <td>makes</td>\n",
       "      <td>1</td>\n",
       "    </tr>\n",
       "    <tr>\n",
       "      <th>56</th>\n",
       "      <td>6</td>\n",
       "      <td>1.0</td>\n",
       "      <td>makes</td>\n",
       "      <td>2</td>\n",
       "    </tr>\n",
       "    <tr>\n",
       "      <th>57</th>\n",
       "      <td>6</td>\n",
       "      <td>1.0</td>\n",
       "      <td>makes</td>\n",
       "      <td>3</td>\n",
       "    </tr>\n",
       "    <tr>\n",
       "      <th>58</th>\n",
       "      <td>6</td>\n",
       "      <td>1.0</td>\n",
       "      <td>misses</td>\n",
       "      <td>1</td>\n",
       "    </tr>\n",
       "    <tr>\n",
       "      <th>59</th>\n",
       "      <td>6</td>\n",
       "      <td>1.0</td>\n",
       "      <td>makes</td>\n",
       "      <td>1</td>\n",
       "    </tr>\n",
       "    <tr>\n",
       "      <th>61</th>\n",
       "      <td>6</td>\n",
       "      <td>1.0</td>\n",
       "      <td>misses</td>\n",
       "      <td>1</td>\n",
       "    </tr>\n",
       "    <tr>\n",
       "      <th>62</th>\n",
       "      <td>6</td>\n",
       "      <td>2.0</td>\n",
       "      <td>misses</td>\n",
       "      <td>1</td>\n",
       "    </tr>\n",
       "    <tr>\n",
       "      <th>66</th>\n",
       "      <td>6</td>\n",
       "      <td>3.0</td>\n",
       "      <td>makes</td>\n",
       "      <td>1</td>\n",
       "    </tr>\n",
       "    <tr>\n",
       "      <th>69</th>\n",
       "      <td>6</td>\n",
       "      <td>4.0</td>\n",
       "      <td>misses</td>\n",
       "      <td>1</td>\n",
       "    </tr>\n",
       "    <tr>\n",
       "      <th>71</th>\n",
       "      <td>7</td>\n",
       "      <td>1.0</td>\n",
       "      <td>misses</td>\n",
       "      <td>1</td>\n",
       "    </tr>\n",
       "    <tr>\n",
       "      <th>72</th>\n",
       "      <td>7</td>\n",
       "      <td>1.0</td>\n",
       "      <td>misses</td>\n",
       "      <td>2</td>\n",
       "    </tr>\n",
       "    <tr>\n",
       "      <th>81</th>\n",
       "      <td>7</td>\n",
       "      <td>3.0</td>\n",
       "      <td>misses</td>\n",
       "      <td>1</td>\n",
       "    </tr>\n",
       "    <tr>\n",
       "      <th>84</th>\n",
       "      <td>7</td>\n",
       "      <td>4.0</td>\n",
       "      <td>misses</td>\n",
       "      <td>1</td>\n",
       "    </tr>\n",
       "    <tr>\n",
       "      <th>85</th>\n",
       "      <td>7</td>\n",
       "      <td>4.0</td>\n",
       "      <td>misses</td>\n",
       "      <td>2</td>\n",
       "    </tr>\n",
       "    <tr>\n",
       "      <th>86</th>\n",
       "      <td>7</td>\n",
       "      <td>4.0</td>\n",
       "      <td>makes</td>\n",
       "      <td>1</td>\n",
       "    </tr>\n",
       "  </tbody>\n",
       "</table>\n",
       "</div>"
      ],
      "text/plain": [
       "    Series Game  quarter misses/count  streak\n",
       "0             1      1.0        makes       1\n",
       "3             1      1.0       misses       1\n",
       "6             1      2.0       misses       1\n",
       "7             1      2.0       misses       2\n",
       "8             1      3.0       misses       1\n",
       "10            1      3.0       misses       2\n",
       "21            3      3.0       misses       1\n",
       "22            3      3.0        makes       1\n",
       "23            3      3.0       misses       1\n",
       "27            3      4.0       misses       1\n",
       "31            4      1.0       misses       1\n",
       "36            4      2.0        makes       1\n",
       "40            4      4.0        makes       1\n",
       "48            5      1.0       misses       1\n",
       "49            5      2.0        makes       1\n",
       "51            5      3.0        makes       1\n",
       "52            5      3.0        makes       2\n",
       "53            5      3.0       misses       1\n",
       "55            6      1.0        makes       1\n",
       "56            6      1.0        makes       2\n",
       "57            6      1.0        makes       3\n",
       "58            6      1.0       misses       1\n",
       "59            6      1.0        makes       1\n",
       "61            6      1.0       misses       1\n",
       "62            6      2.0       misses       1\n",
       "66            6      3.0        makes       1\n",
       "69            6      4.0       misses       1\n",
       "71            7      1.0       misses       1\n",
       "72            7      1.0       misses       2\n",
       "81            7      3.0       misses       1\n",
       "84            7      4.0       misses       1\n",
       "85            7      4.0       misses       2\n",
       "86            7      4.0        makes       1"
      ]
     },
     "execution_count": 18,
     "metadata": {},
     "output_type": "execute_result"
    }
   ],
   "source": [
    "three_pt_df[['Series Game', 'quarter', 'misses/count', 'streak']]"
   ]
  },
  {
   "cell_type": "code",
   "execution_count": null,
   "id": "3d12bdf2",
   "metadata": {},
   "outputs": [],
   "source": []
  }
 ],
 "metadata": {
  "kernelspec": {
   "display_name": "Python 3",
   "language": "python",
   "name": "python3"
  },
  "language_info": {
   "codemirror_mode": {
    "name": "ipython",
    "version": 3
   },
   "file_extension": ".py",
   "mimetype": "text/x-python",
   "name": "python",
   "nbconvert_exporter": "python",
   "pygments_lexer": "ipython3",
   "version": "3.8.8"
  }
 },
 "nbformat": 4,
 "nbformat_minor": 5
}
