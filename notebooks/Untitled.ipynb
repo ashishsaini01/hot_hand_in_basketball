{
 "cells": [
  {
   "cell_type": "code",
   "execution_count": 1,
   "id": "24bfe179",
   "metadata": {},
   "outputs": [],
   "source": [
    "import pandas as pd\n",
    "import numpy as np\n",
    "import matplotlib.pyplot as plt\n",
    "import seaborn as sns"
   ]
  },
  {
   "cell_type": "code",
   "execution_count": 2,
   "id": "3667dbd5",
   "metadata": {},
   "outputs": [
    {
     "data": {
      "text/plain": [
       "(175, 12)"
      ]
     },
     "execution_count": 2,
     "metadata": {},
     "output_type": "execute_result"
    }
   ],
   "source": [
    "data = pd.read_csv('doncic_all_games_data.csv')\n",
    "data['misses/count_binary'] = np.where(data['misses/count'] == 'makes', 1, 0)\n",
    "data = data[data['basket_type'] != 'free']\n",
    "data.shape"
   ]
  },
  {
   "cell_type": "code",
   "execution_count": 10,
   "id": "02492032",
   "metadata": {},
   "outputs": [
    {
     "data": {
      "text/html": [
       "<div>\n",
       "<style scoped>\n",
       "    .dataframe tbody tr th:only-of-type {\n",
       "        vertical-align: middle;\n",
       "    }\n",
       "\n",
       "    .dataframe tbody tr th {\n",
       "        vertical-align: top;\n",
       "    }\n",
       "\n",
       "    .dataframe thead th {\n",
       "        text-align: right;\n",
       "    }\n",
       "</style>\n",
       "<table border=\"1\" class=\"dataframe\">\n",
       "  <thead>\n",
       "    <tr style=\"text-align: right;\">\n",
       "      <th></th>\n",
       "      <th>Time</th>\n",
       "      <th>player_name</th>\n",
       "      <th>Series Game</th>\n",
       "      <th>Score</th>\n",
       "      <th>quarter</th>\n",
       "      <th>basket_type</th>\n",
       "      <th>short_type</th>\n",
       "      <th>short_range</th>\n",
       "      <th>misses/count</th>\n",
       "      <th>player_team</th>\n",
       "      <th>Time_dumy</th>\n",
       "      <th>misses/count_binary</th>\n",
       "    </tr>\n",
       "  </thead>\n",
       "  <tbody>\n",
       "    <tr>\n",
       "      <th>0</th>\n",
       "      <td>11:11.0</td>\n",
       "      <td>L.Doncic</td>\n",
       "      <td>1</td>\n",
       "      <td>0-4</td>\n",
       "      <td>1.0</td>\n",
       "      <td>2-pt</td>\n",
       "      <td>jump</td>\n",
       "      <td>9</td>\n",
       "      <td>misses</td>\n",
       "      <td>Dallas</td>\n",
       "      <td>2022-06-05 11:11:00</td>\n",
       "      <td>0</td>\n",
       "    </tr>\n",
       "    <tr>\n",
       "      <th>1</th>\n",
       "      <td>9:16.0</td>\n",
       "      <td>L.Doncic</td>\n",
       "      <td>1</td>\n",
       "      <td>2-9</td>\n",
       "      <td>1.0</td>\n",
       "      <td>2-pt</td>\n",
       "      <td>jump</td>\n",
       "      <td>19</td>\n",
       "      <td>makes</td>\n",
       "      <td>Dallas</td>\n",
       "      <td>2022-06-05 09:16:00</td>\n",
       "      <td>1</td>\n",
       "    </tr>\n",
       "    <tr>\n",
       "      <th>2</th>\n",
       "      <td>7:31.0</td>\n",
       "      <td>L.Doncic</td>\n",
       "      <td>1</td>\n",
       "      <td>4-12</td>\n",
       "      <td>1.0</td>\n",
       "      <td>3-pt</td>\n",
       "      <td>jump</td>\n",
       "      <td>26</td>\n",
       "      <td>misses</td>\n",
       "      <td>Dallas</td>\n",
       "      <td>2022-06-05 07:31:00</td>\n",
       "      <td>0</td>\n",
       "    </tr>\n",
       "    <tr>\n",
       "      <th>3</th>\n",
       "      <td>7:01.0</td>\n",
       "      <td>L.Doncic</td>\n",
       "      <td>1</td>\n",
       "      <td>6-14</td>\n",
       "      <td>1.0</td>\n",
       "      <td>2-pt</td>\n",
       "      <td>jump</td>\n",
       "      <td>4</td>\n",
       "      <td>makes</td>\n",
       "      <td>Dallas</td>\n",
       "      <td>2022-06-05 07:01:00</td>\n",
       "      <td>1</td>\n",
       "    </tr>\n",
       "    <tr>\n",
       "      <th>4</th>\n",
       "      <td>5:47.0</td>\n",
       "      <td>L.Doncic</td>\n",
       "      <td>1</td>\n",
       "      <td>6-18</td>\n",
       "      <td>1.0</td>\n",
       "      <td>3-pt</td>\n",
       "      <td>jump</td>\n",
       "      <td>26</td>\n",
       "      <td>misses</td>\n",
       "      <td>Dallas</td>\n",
       "      <td>2022-06-05 05:47:00</td>\n",
       "      <td>0</td>\n",
       "    </tr>\n",
       "  </tbody>\n",
       "</table>\n",
       "</div>"
      ],
      "text/plain": [
       "      Time player_name  Series Game Score  quarter basket_type short_type  \\\n",
       "0  11:11.0    L.Doncic            1   0-4      1.0        2-pt       jump   \n",
       "1   9:16.0    L.Doncic            1   2-9      1.0        2-pt       jump   \n",
       "2   7:31.0    L.Doncic            1  4-12      1.0        3-pt       jump   \n",
       "3   7:01.0    L.Doncic            1  6-14      1.0        2-pt       jump   \n",
       "4   5:47.0    L.Doncic            1  6-18      1.0        3-pt       jump   \n",
       "\n",
       "  short_range misses/count player_team            Time_dumy  \\\n",
       "0           9       misses      Dallas  2022-06-05 11:11:00   \n",
       "1          19        makes      Dallas  2022-06-05 09:16:00   \n",
       "2          26       misses      Dallas  2022-06-05 07:31:00   \n",
       "3           4        makes      Dallas  2022-06-05 07:01:00   \n",
       "4          26       misses      Dallas  2022-06-05 05:47:00   \n",
       "\n",
       "   misses/count_binary  \n",
       "0                    0  \n",
       "1                    1  \n",
       "2                    0  \n",
       "3                    1  \n",
       "4                    0  "
      ]
     },
     "execution_count": 10,
     "metadata": {},
     "output_type": "execute_result"
    }
   ],
   "source": [
    "data.head()"
   ]
  },
  {
   "cell_type": "code",
   "execution_count": 46,
   "id": "f09d017a",
   "metadata": {},
   "outputs": [],
   "source": [
    "data = data.reset_index(drop = True).reset_index()"
   ]
  },
  {
   "cell_type": "code",
   "execution_count": 126,
   "id": "43f0c883",
   "metadata": {},
   "outputs": [
    {
     "data": {
      "image/png": "[encoded data removed]",
      "text/plain": [
       "<Figure size 1584x216 with 1 Axes>"
      ]
     },
     "metadata": {
      "needs_background": "light"
     },
     "output_type": "display_data"
    }
   ],
   "source": [
    "plt.figure(figsize=(22, 3))\n",
    "\n",
    "plt.text(10, 0.96, 'Loss', fontsize = 22)\n",
    "plt.text(35, 0.96, 'Loss', fontsize = 22)\n",
    "plt.text(60, 0.96, 'Win', fontsize = 22)\n",
    "plt.text(85, 0.96, 'Win', fontsize = 22)\n",
    "plt.text(110, 0.96, 'Loss', fontsize = 22)\n",
    "plt.text(130, 0.96, 'Win', fontsize = 22)\n",
    "plt.text(160, 0.96, 'Win', fontsize = 22)\n",
    "\n",
    "sns.scatterplot(x = 'index', y = 'Game', hue = 'misses/count', data = data, palette = ['#257ca3', '#A42821'], s = 100)\n",
    "# plt.xticks([0, 32, 54, 80, 105, 128, 155])\n",
    "plt.yticks([1])\n",
    "# plt.tight_layout()\n",
    "plt.autoscale(tight=True)\n",
    "plt.axvline(32, ls = '--')\n",
    "plt.axvline(54, ls = '--')\n",
    "plt.axvline(80, ls = '--')\n",
    "plt.axvline(105, ls = '--')\n",
    "plt.axvline(128, ls = '--')\n",
    "plt.axvline(155, ls = '--')\n",
    "plt.xlabel('Number of Shorts')\n",
    "\n",
    "# plt.show()\n",
    "# plt.savefig('test.png', bbox_inches='tight', dpi = 120)"
   ]
  },
  {
   "cell_type": "code",
   "execution_count": 7,
   "id": "37241e41",
   "metadata": {},
   "outputs": [],
   "source": [
    "data = pd.read_csv('doncic_all_games_data.csv')\n",
    "data_gsw_jazz = pd.read_csv('doncic_series_games(jazz_gsw)_data.csv')\n",
    "\n",
    "data['oponent_team'] = 'suns'\n",
    "doncic_concat_df = pd.concat([data, data_gsw_jazz])\n",
    "\n",
    "doncic_concat_df['misses/count_binary'] = np.where(doncic_concat_df['misses/count'] == 'makes', 1, 0)\n",
    "\n",
    "doncic_concat_df = doncic_concat_df[doncic_concat_df['basket_type'] != 'free']\n",
    "\n",
    "# calculating the streaks \n",
    "doncic_concat_df['streak'] = doncic_concat_df['misses/count_binary'].groupby((doncic_concat_df['misses/count_binary'] != doncic_concat_df.groupby(['Series Game', 'oponent_team'])['misses/count_binary'].shift()).cumsum()).cumcount() + 1"
   ]
  },
  {
   "cell_type": "code",
   "execution_count": 11,
   "id": "7582cc50",
   "metadata": {},
   "outputs": [
    {
     "data": {
      "text/plain": [
       "((228, 12), (259, 12), (487, 12))"
      ]
     },
     "execution_count": 11,
     "metadata": {},
     "output_type": "execute_result"
    }
   ],
   "source": [
    "data.shape, data_gsw_jazz.shape, doncic_concat_df.shape"
   ]
  },
  {
   "cell_type": "code",
   "execution_count": 17,
   "id": "97698449",
   "metadata": {},
   "outputs": [
    {
     "data": {
      "text/html": [
       "<div>\n",
       "<style scoped>\n",
       "    .dataframe tbody tr th:only-of-type {\n",
       "        vertical-align: middle;\n",
       "    }\n",
       "\n",
       "    .dataframe tbody tr th {\n",
       "        vertical-align: top;\n",
       "    }\n",
       "\n",
       "    .dataframe thead th {\n",
       "        text-align: right;\n",
       "    }\n",
       "</style>\n",
       "<table border=\"1\" class=\"dataframe\">\n",
       "  <thead>\n",
       "    <tr style=\"text-align: right;\">\n",
       "      <th>Series Game</th>\n",
       "      <th>misses/count</th>\n",
       "      <th>1</th>\n",
       "      <th>2</th>\n",
       "      <th>3</th>\n",
       "      <th>4</th>\n",
       "      <th>5</th>\n",
       "      <th>6</th>\n",
       "      <th>7</th>\n",
       "      <th>Total</th>\n",
       "    </tr>\n",
       "  </thead>\n",
       "  <tbody>\n",
       "    <tr>\n",
       "      <th>0</th>\n",
       "      <td>makes</td>\n",
       "      <td>23</td>\n",
       "      <td>25</td>\n",
       "      <td>24</td>\n",
       "      <td>30</td>\n",
       "      <td>31</td>\n",
       "      <td>19</td>\n",
       "      <td>12</td>\n",
       "      <td>164</td>\n",
       "    </tr>\n",
       "    <tr>\n",
       "      <th>1</th>\n",
       "      <td>misses</td>\n",
       "      <td>29</td>\n",
       "      <td>20</td>\n",
       "      <td>26</td>\n",
       "      <td>42</td>\n",
       "      <td>42</td>\n",
       "      <td>29</td>\n",
       "      <td>7</td>\n",
       "      <td>195</td>\n",
       "    </tr>\n",
       "  </tbody>\n",
       "</table>\n",
       "</div>"
      ],
      "text/plain": [
       "Series Game misses/count   1   2   3   4   5   6   7  Total\n",
       "0                  makes  23  25  24  30  31  19  12    164\n",
       "1                 misses  29  20  26  42  42  29   7    195"
      ]
     },
     "execution_count": 17,
     "metadata": {},
     "output_type": "execute_result"
    }
   ],
   "source": [
    "cross_df = pd.crosstab(doncic_concat_df['misses/count'], doncic_concat_df['Series Game'])\n",
    "cross_df = cross_df.reset_index()\n",
    "cross_df['Total'] = cross_df.sum(axis = 1)\n",
    "cross_df"
   ]
  },
  {
   "cell_type": "code",
   "execution_count": 18,
   "id": "dbe3d2c1",
   "metadata": {},
   "outputs": [
    {
     "data": {
      "text/html": [
       "<div>\n",
       "<style scoped>\n",
       "    .dataframe tbody tr th:only-of-type {\n",
       "        vertical-align: middle;\n",
       "    }\n",
       "\n",
       "    .dataframe tbody tr th {\n",
       "        vertical-align: top;\n",
       "    }\n",
       "\n",
       "    .dataframe thead th {\n",
       "        text-align: right;\n",
       "    }\n",
       "</style>\n",
       "<table border=\"1\" class=\"dataframe\">\n",
       "  <thead>\n",
       "    <tr style=\"text-align: right;\">\n",
       "      <th>streak</th>\n",
       "      <th>misses/count</th>\n",
       "      <th>1</th>\n",
       "      <th>2</th>\n",
       "      <th>3</th>\n",
       "      <th>4</th>\n",
       "      <th>5</th>\n",
       "      <th>6</th>\n",
       "      <th>7</th>\n",
       "      <th>8</th>\n",
       "      <th>9</th>\n",
       "      <th>10</th>\n",
       "      <th>11</th>\n",
       "      <th>Total</th>\n",
       "    </tr>\n",
       "  </thead>\n",
       "  <tbody>\n",
       "    <tr>\n",
       "      <th>0</th>\n",
       "      <td>makes</td>\n",
       "      <td>96</td>\n",
       "      <td>43</td>\n",
       "      <td>17</td>\n",
       "      <td>4</td>\n",
       "      <td>3</td>\n",
       "      <td>1</td>\n",
       "      <td>0</td>\n",
       "      <td>0</td>\n",
       "      <td>0</td>\n",
       "      <td>0</td>\n",
       "      <td>0</td>\n",
       "      <td>164</td>\n",
       "    </tr>\n",
       "    <tr>\n",
       "      <th>1</th>\n",
       "      <td>misses</td>\n",
       "      <td>96</td>\n",
       "      <td>50</td>\n",
       "      <td>23</td>\n",
       "      <td>11</td>\n",
       "      <td>8</td>\n",
       "      <td>2</td>\n",
       "      <td>1</td>\n",
       "      <td>1</td>\n",
       "      <td>1</td>\n",
       "      <td>1</td>\n",
       "      <td>1</td>\n",
       "      <td>195</td>\n",
       "    </tr>\n",
       "  </tbody>\n",
       "</table>\n",
       "</div>"
      ],
      "text/plain": [
       "streak misses/count   1   2   3   4  5  6  7  8  9  10  11  Total\n",
       "0             makes  96  43  17   4  3  1  0  0  0   0   0    164\n",
       "1            misses  96  50  23  11  8  2  1  1  1   1   1    195"
      ]
     },
     "execution_count": 18,
     "metadata": {},
     "output_type": "execute_result"
    }
   ],
   "source": [
    "cross_streak_df = pd.crosstab(doncic_concat_df['misses/count'], doncic_concat_df['streak'])\n",
    "cross_streak_df = cross_streak_df.reset_index()\n",
    "cross_streak_df['Total'] = cross_streak_df.sum(axis = 1)\n",
    "cross_streak_df"
   ]
  },
  {
   "cell_type": "code",
   "execution_count": 19,
   "id": "45b3c640",
   "metadata": {},
   "outputs": [],
   "source": [
    "makes_prob = cross_streak_df[[1,2,3,4]].loc[0] / 122\n",
    "misses_prob = cross_streak_df[[1,2,3,4]].loc[1] / 72\n",
    "\n",
    "prob_df = pd.DataFrame()\n",
    "prob_df['makes_prob'] = makes_prob\n",
    "prob_df['misses_prob'] = misses_prob\n",
    "prob_df = prob_df.reset_index()\n",
    "\n",
    "prob_df['converg_prob'] = [0.585, 0.448, 0.395, 0.235]"
   ]
  },
  {
   "cell_type": "code",
   "execution_count": 23,
   "id": "95581984",
   "metadata": {},
   "outputs": [
    {
     "data": {
      "text/plain": [
       "Text(0.5, 1.0, 'Hot hand (short convergence probability) of Luka doncic in Playoffs(2021-22 season)')"
      ]
     },
     "execution_count": 23,
     "metadata": {},
     "output_type": "execute_result"
    },
    {
     "data": {
      "image/png": "[encoded data removed]",
      "text/plain": [
       "<Figure size 432x288 with 1 Axes>"
      ]
     },
     "metadata": {},
     "output_type": "display_data"
    }
   ],
   "source": [
    "sns.set_style('darkgrid')\n",
    "ax = sns.barplot(x = 'streak', y = 'converg_prob', data = prob_df, color = 'b')\n",
    "ax = sns.pointplot(x = 'streak', y = 'converg_prob', data = prob_df, color = 'black', markers = \"*\")#prob_df[prob_df['streak'] <= 4])\n",
    "ax.set(xlabel='Short Streaks', ylabel='Probabilitis')\n",
    "ax.set_title('Hot hand (shorts convergence probability) of Luka doncic in Playoffs(2021-22 season)')"
   ]
  },
  {
   "cell_type": "code",
   "execution_count": 3,
   "id": "a1446318",
   "metadata": {},
   "outputs": [],
   "source": [
    "# giannis_data = pd.read_csv('giannis_all_games_data.csv')"
   ]
  },
  {
   "cell_type": "code",
   "execution_count": 8,
   "id": "ca049b09",
   "metadata": {},
   "outputs": [],
   "source": [
    "# giannis_data.head()"
   ]
  },
  {
   "cell_type": "code",
   "execution_count": null,
   "id": "25fa82a5",
   "metadata": {},
   "outputs": [],
   "source": []
  }
 ],
 "metadata": {
  "kernelspec": {
   "display_name": "Python 3",
   "language": "python",
   "name": "python3"
  },
  "language_info": {
   "codemirror_mode": {
    "name": "ipython",
    "version": 3
   },
   "file_extension": ".py",
   "mimetype": "text/x-python",
   "name": "python",
   "nbconvert_exporter": "python",
   "pygments_lexer": "ipython3",
   "version": "3.8.8"
  }
 },
 "nbformat": 4,
 "nbformat_minor": 5
}
